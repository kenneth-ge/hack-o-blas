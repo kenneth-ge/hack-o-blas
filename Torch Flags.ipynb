{
 "cells": [
  {
   "cell_type": "code",
   "execution_count": 1,
   "id": "7442f829-2246-4fa2-bb74-dc81de5d8367",
   "metadata": {},
   "outputs": [],
   "source": [
    "import numpy as np\n",
    "import torch"
   ]
  },
  {
   "cell_type": "code",
   "execution_count": 2,
   "id": "79721aee-95ad-4b2e-ae39-a440dc333a15",
   "metadata": {},
   "outputs": [
    {
     "name": "stdout",
     "output_type": "stream",
     "text": [
      "Build Dependencies:\n",
      "  blas:\n",
      "    detection method: pkgconfig\n",
      "    found: true\n",
      "    include directory: /usr/include/flexiblas\n",
      "    lib directory: /usr/lib64\n",
      "    name: flexiblas\n",
      "    openblas configuration: unknown\n",
      "    pc file directory: /usr/lib64/pkgconfig\n",
      "    version: 3.4.2\n",
      "  lapack:\n",
      "    detection method: internal\n",
      "    found: true\n",
      "    include directory: unknown\n",
      "    lib directory: unknown\n",
      "    name: dep140477639069424\n",
      "    openblas configuration: unknown\n",
      "    pc file directory: unknown\n",
      "    version: 1.26.4\n",
      "Compilers:\n",
      "  c:\n",
      "    args: -O2, -flto=auto, -ffat-lto-objects, -fexceptions, -g, -grecord-gcc-switches,\n",
      "      -pipe, -Wall, -Werror=format-security, -Wp,-U_FORTIFY_SOURCE,-D_FORTIFY_SOURCE=3,\n",
      "      -Wp,-D_GLIBCXX_ASSERTIONS, -specs=/usr/lib/rpm/redhat/redhat-hardened-cc1, -fstack-protector-strong,\n",
      "      -specs=/usr/lib/rpm/redhat/redhat-annobin-cc1, -m64, -march=x86-64, -mtune=generic,\n",
      "      -fasynchronous-unwind-tables, -fstack-clash-protection, -fcf-protection, -fno-omit-frame-pointer,\n",
      "      -mno-omit-leaf-frame-pointer\n",
      "    commands: gcc\n",
      "    linker: ld.bfd\n",
      "    linker args: -Wl,-z,relro, -Wl,--as-needed, -Wl,-z,pack-relative-relocs, -Wl,-z,now,\n",
      "      -specs=/usr/lib/rpm/redhat/redhat-hardened-ld-errors, -specs=/usr/lib/rpm/redhat/redhat-hardened-ld,\n",
      "      -specs=/usr/lib/rpm/redhat/redhat-annobin-cc1, -Wl,--build-id=sha1, -specs=/usr/lib/rpm/redhat/redhat-package-notes,\n",
      "      -O2, -flto=auto, -ffat-lto-objects, -fexceptions, -g, -grecord-gcc-switches,\n",
      "      -pipe, -Wall, -Werror=format-security, -Wp,-U_FORTIFY_SOURCE,-D_FORTIFY_SOURCE=3,\n",
      "      -Wp,-D_GLIBCXX_ASSERTIONS, -specs=/usr/lib/rpm/redhat/redhat-hardened-cc1, -fstack-protector-strong,\n",
      "      -specs=/usr/lib/rpm/redhat/redhat-annobin-cc1, -m64, -march=x86-64, -mtune=generic,\n",
      "      -fasynchronous-unwind-tables, -fstack-clash-protection, -fcf-protection, -fno-omit-frame-pointer,\n",
      "      -mno-omit-leaf-frame-pointer\n",
      "    name: gcc\n",
      "    version: 14.0.1\n",
      "  c++:\n",
      "    args: -O2, -flto=auto, -ffat-lto-objects, -fexceptions, -g, -grecord-gcc-switches,\n",
      "      -pipe, -Wall, -Werror=format-security, -Wp,-U_FORTIFY_SOURCE,-D_FORTIFY_SOURCE=3,\n",
      "      -Wp,-D_GLIBCXX_ASSERTIONS, -specs=/usr/lib/rpm/redhat/redhat-hardened-cc1, -fstack-protector-strong,\n",
      "      -specs=/usr/lib/rpm/redhat/redhat-annobin-cc1, -m64, -march=x86-64, -mtune=generic,\n",
      "      -fasynchronous-unwind-tables, -fstack-clash-protection, -fcf-protection, -fno-omit-frame-pointer,\n",
      "      -mno-omit-leaf-frame-pointer\n",
      "    commands: g++\n",
      "    linker: ld.bfd\n",
      "    linker args: -Wl,-z,relro, -Wl,--as-needed, -Wl,-z,pack-relative-relocs, -Wl,-z,now,\n",
      "      -specs=/usr/lib/rpm/redhat/redhat-hardened-ld-errors, -specs=/usr/lib/rpm/redhat/redhat-hardened-ld,\n",
      "      -specs=/usr/lib/rpm/redhat/redhat-annobin-cc1, -Wl,--build-id=sha1, -specs=/usr/lib/rpm/redhat/redhat-package-notes,\n",
      "      -O2, -flto=auto, -ffat-lto-objects, -fexceptions, -g, -grecord-gcc-switches,\n",
      "      -pipe, -Wall, -Werror=format-security, -Wp,-U_FORTIFY_SOURCE,-D_FORTIFY_SOURCE=3,\n",
      "      -Wp,-D_GLIBCXX_ASSERTIONS, -specs=/usr/lib/rpm/redhat/redhat-hardened-cc1, -fstack-protector-strong,\n",
      "      -specs=/usr/lib/rpm/redhat/redhat-annobin-cc1, -m64, -march=x86-64, -mtune=generic,\n",
      "      -fasynchronous-unwind-tables, -fstack-clash-protection, -fcf-protection, -fno-omit-frame-pointer,\n",
      "      -mno-omit-leaf-frame-pointer\n",
      "    name: gcc\n",
      "    version: 14.0.1\n",
      "  cython:\n",
      "    commands: cython\n",
      "    linker: cython\n",
      "    name: cython\n",
      "    version: 3.0.9\n",
      "Machine Information:\n",
      "  build:\n",
      "    cpu: x86_64\n",
      "    endian: little\n",
      "    family: x86_64\n",
      "    system: linux\n",
      "  host:\n",
      "    cpu: x86_64\n",
      "    endian: little\n",
      "    family: x86_64\n",
      "    system: linux\n",
      "Python Information:\n",
      "  path: /usr/bin/python3\n",
      "  version: '3.12'\n",
      "SIMD Extensions:\n",
      "  baseline:\n",
      "  - SSE\n",
      "  - SSE2\n",
      "  - SSE3\n",
      "  found:\n",
      "  - SSSE3\n",
      "  - SSE41\n",
      "  - POPCNT\n",
      "  - SSE42\n",
      "  - AVX\n",
      "  - F16C\n",
      "  - FMA3\n",
      "  - AVX2\n",
      "  - AVX512F\n",
      "  - AVX512CD\n",
      "  - AVX512_SKX\n",
      "  - AVX512_CLX\n",
      "  - AVX512_CNL\n",
      "  - AVX512_ICL\n",
      "  not found:\n",
      "  - AVX512_KNL\n",
      "  - AVX512_KNM\n",
      "  - AVX512_SPR\n",
      "\n"
     ]
    }
   ],
   "source": [
    "np.show_config()"
   ]
  },
  {
   "cell_type": "code",
   "execution_count": 3,
   "id": "9e1be99a-69a5-4710-a36a-1716f6ef1539",
   "metadata": {},
   "outputs": [
    {
     "data": {
      "text/plain": [
       "'PyTorch built with:\\n  - GCC 14.1\\n  - C++ Version: 201703\\n  - OpenMP 201511 (a.k.a. OpenMP 4.5)\\n  - LAPACK is enabled (usually provided by MKL)\\n  - CPU capability usage: AVX512\\n  - HIP Runtime 6.0.32831\\n  - MIOpen 3.0.0\\n  - Build settings: BLAS_INFO=open, BUILD_TYPE=RelWithDebInfo, CXX_COMPILER=/usr/bin/g++, CXX_FLAGS=-O2  -fexceptions -g -grecord-gcc-switches -pipe -Wall -Werror=format-security -Wp,-U_FORTIFY_SOURCE,-D_FORTIFY_SOURCE=3 -Wp,-D_GLIBCXX_ASSERTIONS -specs=/usr/lib/rpm/redhat/redhat-hardened-cc1 -fstack-protector-strong -specs=/usr/lib/rpm/redhat/redhat-annobin-cc1  -m64 -march=x86-64 -mtune=generic -fasynchronous-unwind-tables -fstack-clash-protection -fcf-protection -fno-omit-frame-pointer -mno-omit-leaf-frame-pointer -D_GLIBCXX_USE_CXX11_ABI=1 -fvisibility-inlines-hidden -DUSE_PTHREADPOOL -DUSE_XNNPACK -DSYMBOLICATE_MOBILE_DEBUG_HANDLE -O2 -fPIC -Wall -Wextra -Werror=return-type -Werror=non-virtual-dtor -Werror=range-loop-construct -Werror=bool-operation -Wnarrowing -Wno-missing-field-initializers -Wno-type-limits -Wno-array-bounds -Wno-unknown-pragmas -Wno-unused-parameter -Wno-unused-function -Wno-unused-result -Wno-strict-overflow -Wno-strict-aliasing -Wno-stringop-overflow -Wsuggest-override -Wno-psabi -Wno-error=pedantic -Wno-error=old-style-cast -Wno-missing-braces -fdiagnostics-color=always -faligned-new -Wno-unused-but-set-variable -Wno-maybe-uninitialized -fno-math-errno -fno-trapping-math -Werror=format -Wno-stringop-overflow, LAPACK_INFO=open, PERF_WITH_AVX=1, PERF_WITH_AVX2=1, PERF_WITH_AVX512=1, TORCH_VERSION=2.3.0, USE_CUDA=OFF, USE_CUDNN=OFF, USE_CUSPARSELT=OFF, USE_EIGEN_FOR_BLAS=ON, USE_EXCEPTION_PTR=1, USE_GFLAGS=OFF, USE_GLOG=OFF, USE_GLOO=OFF, USE_MKL=OFF, USE_MKLDNN=OFF, USE_MPI=OFF, USE_NCCL=OFF, USE_NNPACK=OFF, USE_OPENMP=ON, USE_ROCM=ON, USE_ROCM_KERNEL_ASSERT=OFF, \\n'"
      ]
     },
     "execution_count": 3,
     "metadata": {},
     "output_type": "execute_result"
    }
   ],
   "source": [
    "torch.__config__.show()"
   ]
  }
 ],
 "metadata": {
  "kernelspec": {
   "display_name": "Python 3 (ipykernel)",
   "language": "python",
   "name": "python3"
  },
  "language_info": {
   "codemirror_mode": {
    "name": "ipython",
    "version": 3
   },
   "file_extension": ".py",
   "mimetype": "text/x-python",
   "name": "python",
   "nbconvert_exporter": "python",
   "pygments_lexer": "ipython3",
   "version": "3.12.3"
  }
 },
 "nbformat": 4,
 "nbformat_minor": 5
}
